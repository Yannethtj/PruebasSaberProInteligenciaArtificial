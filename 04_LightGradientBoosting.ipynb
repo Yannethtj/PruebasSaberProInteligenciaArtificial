{
  "nbformat": 4,
  "nbformat_minor": 0,
  "metadata": {
    "colab": {
      "provenance": [],
      "include_colab_link": true
    },
    "kernelspec": {
      "name": "python3",
      "display_name": "Python 3"
    },
    "language_info": {
      "name": "python"
    }
  },
  "cells": [
    {
      "cell_type": "markdown",
      "metadata": {
        "id": "view-in-github",
        "colab_type": "text"
      },
      "source": [
        "<a href=\"https://colab.research.google.com/github/Yannethtj/PruebasSaberProInteligenciaArtificial/blob/main/04_LightGradientBoosting.ipynb\" target=\"_parent\"><img src=\"https://colab.research.google.com/assets/colab-badge.svg\" alt=\"Open In Colab\"/></a>"
      ]
    },
    {
      "cell_type": "code",
      "execution_count": 44,
      "metadata": {
        "colab": {
          "base_uri": "https://localhost:8080/"
        },
        "id": "qE7-_4DoHVLb",
        "outputId": "9e0d2bb5-7f42-4b2b-d94a-6f47337db921"
      },
      "outputs": [
        {
          "output_type": "stream",
          "name": "stdout",
          "text": [
            "usage: kaggle [-h] [-v] [-W] {competitions,c,datasets,d,kernels,k,models,m,files,f,config} ...\n",
            "kaggle: error: the following arguments are required: command\n"
          ]
        }
      ],
      "source": [
        "import os\n",
        "os.environ['KAGGLE_CONFIG_DIR'] = '.'\n",
        "!kaggle\n",
        "!chmod 600 ./kaggle.json"
      ]
    },
    {
      "cell_type": "code",
      "source": [
        "!kaggle competitions download -c udea-ai4eng-20242"
      ],
      "metadata": {
        "colab": {
          "base_uri": "https://localhost:8080/"
        },
        "id": "llIC9McpJa_l",
        "outputId": "fee059c6-85bb-4d69-ffac-062f297e687f"
      },
      "execution_count": 2,
      "outputs": [
        {
          "output_type": "stream",
          "name": "stdout",
          "text": [
            "Downloading udea-ai4eng-20242.zip to /content\n",
            " 60% 12.0M/20.1M [00:00<00:00, 54.0MB/s]\n",
            "100% 20.1M/20.1M [00:00<00:00, 65.0MB/s]\n"
          ]
        }
      ]
    },
    {
      "cell_type": "code",
      "source": [
        "!unzip udea-ai4eng-20242.zip\n"
      ],
      "metadata": {
        "colab": {
          "base_uri": "https://localhost:8080/"
        },
        "id": "r5OPgCMyKU8W",
        "outputId": "d5915839-41e1-4fae-84fb-307a596747d9"
      },
      "execution_count": 3,
      "outputs": [
        {
          "output_type": "stream",
          "name": "stdout",
          "text": [
            "Archive:  udea-ai4eng-20242.zip\n",
            "  inflating: submission_example.csv  \n",
            "  inflating: test.csv                \n",
            "  inflating: train.csv               \n"
          ]
        }
      ]
    },
    {
      "cell_type": "code",
      "source": [
        "!pip install lightgbm scikit-learn optuna\n"
      ],
      "metadata": {
        "colab": {
          "base_uri": "https://localhost:8080/"
        },
        "id": "NTTMegOtEosd",
        "outputId": "c21ac17c-bbe6-4634-d65a-1828dc2835d8"
      },
      "execution_count": 23,
      "outputs": [
        {
          "output_type": "stream",
          "name": "stdout",
          "text": [
            "Requirement already satisfied: lightgbm in /usr/local/lib/python3.10/dist-packages (4.5.0)\n",
            "Requirement already satisfied: scikit-learn in /usr/local/lib/python3.10/dist-packages (1.5.2)\n",
            "Collecting optuna\n",
            "  Downloading optuna-4.1.0-py3-none-any.whl.metadata (16 kB)\n",
            "Requirement already satisfied: numpy>=1.17.0 in /usr/local/lib/python3.10/dist-packages (from lightgbm) (1.26.4)\n",
            "Requirement already satisfied: scipy in /usr/local/lib/python3.10/dist-packages (from lightgbm) (1.13.1)\n",
            "Requirement already satisfied: joblib>=1.2.0 in /usr/local/lib/python3.10/dist-packages (from scikit-learn) (1.4.2)\n",
            "Requirement already satisfied: threadpoolctl>=3.1.0 in /usr/local/lib/python3.10/dist-packages (from scikit-learn) (3.5.0)\n",
            "Collecting alembic>=1.5.0 (from optuna)\n",
            "  Downloading alembic-1.14.0-py3-none-any.whl.metadata (7.4 kB)\n",
            "Collecting colorlog (from optuna)\n",
            "  Downloading colorlog-6.9.0-py3-none-any.whl.metadata (10 kB)\n",
            "Requirement already satisfied: packaging>=20.0 in /usr/local/lib/python3.10/dist-packages (from optuna) (24.2)\n",
            "Requirement already satisfied: sqlalchemy>=1.4.2 in /usr/local/lib/python3.10/dist-packages (from optuna) (2.0.36)\n",
            "Requirement already satisfied: tqdm in /usr/local/lib/python3.10/dist-packages (from optuna) (4.66.6)\n",
            "Requirement already satisfied: PyYAML in /usr/local/lib/python3.10/dist-packages (from optuna) (6.0.2)\n",
            "Collecting Mako (from alembic>=1.5.0->optuna)\n",
            "  Downloading Mako-1.3.6-py3-none-any.whl.metadata (2.9 kB)\n",
            "Requirement already satisfied: typing-extensions>=4 in /usr/local/lib/python3.10/dist-packages (from alembic>=1.5.0->optuna) (4.12.2)\n",
            "Requirement already satisfied: greenlet!=0.4.17 in /usr/local/lib/python3.10/dist-packages (from sqlalchemy>=1.4.2->optuna) (3.1.1)\n",
            "Requirement already satisfied: MarkupSafe>=0.9.2 in /usr/local/lib/python3.10/dist-packages (from Mako->alembic>=1.5.0->optuna) (3.0.2)\n",
            "Downloading optuna-4.1.0-py3-none-any.whl (364 kB)\n",
            "\u001b[2K   \u001b[90m━━━━━━━━━━━━━━━━━━━━━━━━━━━━━━━━━━━━━━━━\u001b[0m \u001b[32m364.4/364.4 kB\u001b[0m \u001b[31m11.7 MB/s\u001b[0m eta \u001b[36m0:00:00\u001b[0m\n",
            "\u001b[?25hDownloading alembic-1.14.0-py3-none-any.whl (233 kB)\n",
            "\u001b[2K   \u001b[90m━━━━━━━━━━━━━━━━━━━━━━━━━━━━━━━━━━━━━━━━\u001b[0m \u001b[32m233.5/233.5 kB\u001b[0m \u001b[31m17.1 MB/s\u001b[0m eta \u001b[36m0:00:00\u001b[0m\n",
            "\u001b[?25hDownloading colorlog-6.9.0-py3-none-any.whl (11 kB)\n",
            "Downloading Mako-1.3.6-py3-none-any.whl (78 kB)\n",
            "\u001b[2K   \u001b[90m━━━━━━━━━━━━━━━━━━━━━━━━━━━━━━━━━━━━━━━━\u001b[0m \u001b[32m78.6/78.6 kB\u001b[0m \u001b[31m6.2 MB/s\u001b[0m eta \u001b[36m0:00:00\u001b[0m\n",
            "\u001b[?25hInstalling collected packages: Mako, colorlog, alembic, optuna\n",
            "Successfully installed Mako-1.3.6 alembic-1.14.0 colorlog-6.9.0 optuna-4.1.0\n"
          ]
        }
      ]
    },
    {
      "cell_type": "code",
      "source": [
        "\n",
        "import pandas as pd\n",
        "import numpy as np\n",
        "from sklearn.metrics import accuracy_score\n",
        "from sklearn.model_selection import train_test_split\n",
        "from sklearn.preprocessing import LabelEncoder\n",
        "import seaborn as sns\n",
        "import lightgbm as lgb\n",
        "\n"
      ],
      "metadata": {
        "id": "3UTADUWSKZTZ"
      },
      "execution_count": 56,
      "outputs": []
    },
    {
      "cell_type": "code",
      "source": [
        "train = pd.read_csv('train.csv')\n",
        "test = pd.read_csv('test.csv')"
      ],
      "metadata": {
        "id": "vsdE1IrAKvdY"
      },
      "execution_count": 57,
      "outputs": []
    },
    {
      "cell_type": "code",
      "source": [],
      "metadata": {
        "id": "-22TY9kWDzW0"
      },
      "execution_count": 26,
      "outputs": []
    },
    {
      "cell_type": "code",
      "source": [
        "train.head().T"
      ],
      "metadata": {
        "colab": {
          "base_uri": "https://localhost:8080/",
          "height": 495
        },
        "id": "NDS2ZZSdK1ny",
        "outputId": "cf067e5d-9a1d-436c-af87-6159b6bc16e4"
      },
      "execution_count": 27,
      "outputs": [
        {
          "output_type": "execute_result",
          "data": {
            "text/plain": [
              "                                                                       0  \\\n",
              "ID                                                                904256   \n",
              "PERIODO                                                            20212   \n",
              "ESTU_PRGM_ACADEMICO                                           ENFERMERIA   \n",
              "ESTU_PRGM_DEPARTAMENTO                                            BOGOTÁ   \n",
              "ESTU_VALORMATRICULAUNIVERSIDAD  Entre 5.5 millones y menos de 7 millones   \n",
              "ESTU_HORASSEMANATRABAJA                                Menos de 10 horas   \n",
              "FAMI_ESTRATOVIVIENDA                                           Estrato 3   \n",
              "FAMI_TIENEINTERNET                                                    Si   \n",
              "FAMI_EDUCACIONPADRE                     Técnica o tecnológica incompleta   \n",
              "FAMI_EDUCACIONMADRE                                            Postgrado   \n",
              "ESTU_PAGOMATRICULAPROPIO                                              No   \n",
              "RENDIMIENTO_GLOBAL                                            medio-alto   \n",
              "\n",
              "                                                                       1  \\\n",
              "ID                                                                645256   \n",
              "PERIODO                                                            20212   \n",
              "ESTU_PRGM_ACADEMICO                                              DERECHO   \n",
              "ESTU_PRGM_DEPARTAMENTO                                         ATLANTICO   \n",
              "ESTU_VALORMATRICULAUNIVERSIDAD  Entre 2.5 millones y menos de 4 millones   \n",
              "ESTU_HORASSEMANATRABAJA                                                0   \n",
              "FAMI_ESTRATOVIVIENDA                                           Estrato 3   \n",
              "FAMI_TIENEINTERNET                                                    No   \n",
              "FAMI_EDUCACIONPADRE                       Técnica o tecnológica completa   \n",
              "FAMI_EDUCACIONMADRE                     Técnica o tecnológica incompleta   \n",
              "ESTU_PAGOMATRICULAPROPIO                                              No   \n",
              "RENDIMIENTO_GLOBAL                                                  bajo   \n",
              "\n",
              "                                                                       2  \\\n",
              "ID                                                                308367   \n",
              "PERIODO                                                            20203   \n",
              "ESTU_PRGM_ACADEMICO                                MERCADEO Y PUBLICIDAD   \n",
              "ESTU_PRGM_DEPARTAMENTO                                            BOGOTÁ   \n",
              "ESTU_VALORMATRICULAUNIVERSIDAD  Entre 2.5 millones y menos de 4 millones   \n",
              "ESTU_HORASSEMANATRABAJA                                  Más de 30 horas   \n",
              "FAMI_ESTRATOVIVIENDA                                           Estrato 3   \n",
              "FAMI_TIENEINTERNET                                                    Si   \n",
              "FAMI_EDUCACIONPADRE                   Secundaria (Bachillerato) completa   \n",
              "FAMI_EDUCACIONMADRE                   Secundaria (Bachillerato) completa   \n",
              "ESTU_PAGOMATRICULAPROPIO                                              No   \n",
              "RENDIMIENTO_GLOBAL                                                  bajo   \n",
              "\n",
              "                                                                       3  \\\n",
              "ID                                                                470353   \n",
              "PERIODO                                                            20195   \n",
              "ESTU_PRGM_ACADEMICO                           ADMINISTRACION DE EMPRESAS   \n",
              "ESTU_PRGM_DEPARTAMENTO                                         SANTANDER   \n",
              "ESTU_VALORMATRICULAUNIVERSIDAD  Entre 4 millones y menos de 5.5 millones   \n",
              "ESTU_HORASSEMANATRABAJA                                                0   \n",
              "FAMI_ESTRATOVIVIENDA                                           Estrato 4   \n",
              "FAMI_TIENEINTERNET                                                    Si   \n",
              "FAMI_EDUCACIONPADRE                                              No sabe   \n",
              "FAMI_EDUCACIONMADRE                   Secundaria (Bachillerato) completa   \n",
              "ESTU_PAGOMATRICULAPROPIO                                              No   \n",
              "RENDIMIENTO_GLOBAL                                                  alto   \n",
              "\n",
              "                                                                       4  \n",
              "ID                                                                989032  \n",
              "PERIODO                                                            20212  \n",
              "ESTU_PRGM_ACADEMICO                                           PSICOLOGIA  \n",
              "ESTU_PRGM_DEPARTAMENTO                                         ANTIOQUIA  \n",
              "ESTU_VALORMATRICULAUNIVERSIDAD  Entre 2.5 millones y menos de 4 millones  \n",
              "ESTU_HORASSEMANATRABAJA                              Entre 21 y 30 horas  \n",
              "FAMI_ESTRATOVIVIENDA                                           Estrato 3  \n",
              "FAMI_TIENEINTERNET                                                    Si  \n",
              "FAMI_EDUCACIONPADRE                                    Primaria completa  \n",
              "FAMI_EDUCACIONMADRE                                    Primaria completa  \n",
              "ESTU_PAGOMATRICULAPROPIO                                              No  \n",
              "RENDIMIENTO_GLOBAL                                            medio-bajo  "
            ],
            "text/html": [
              "\n",
              "  <div id=\"df-b6ff2aba-de5e-46fc-8a59-c6b43494cc8c\" class=\"colab-df-container\">\n",
              "    <div>\n",
              "<style scoped>\n",
              "    .dataframe tbody tr th:only-of-type {\n",
              "        vertical-align: middle;\n",
              "    }\n",
              "\n",
              "    .dataframe tbody tr th {\n",
              "        vertical-align: top;\n",
              "    }\n",
              "\n",
              "    .dataframe thead th {\n",
              "        text-align: right;\n",
              "    }\n",
              "</style>\n",
              "<table border=\"1\" class=\"dataframe\">\n",
              "  <thead>\n",
              "    <tr style=\"text-align: right;\">\n",
              "      <th></th>\n",
              "      <th>0</th>\n",
              "      <th>1</th>\n",
              "      <th>2</th>\n",
              "      <th>3</th>\n",
              "      <th>4</th>\n",
              "    </tr>\n",
              "  </thead>\n",
              "  <tbody>\n",
              "    <tr>\n",
              "      <th>ID</th>\n",
              "      <td>904256</td>\n",
              "      <td>645256</td>\n",
              "      <td>308367</td>\n",
              "      <td>470353</td>\n",
              "      <td>989032</td>\n",
              "    </tr>\n",
              "    <tr>\n",
              "      <th>PERIODO</th>\n",
              "      <td>20212</td>\n",
              "      <td>20212</td>\n",
              "      <td>20203</td>\n",
              "      <td>20195</td>\n",
              "      <td>20212</td>\n",
              "    </tr>\n",
              "    <tr>\n",
              "      <th>ESTU_PRGM_ACADEMICO</th>\n",
              "      <td>ENFERMERIA</td>\n",
              "      <td>DERECHO</td>\n",
              "      <td>MERCADEO Y PUBLICIDAD</td>\n",
              "      <td>ADMINISTRACION DE EMPRESAS</td>\n",
              "      <td>PSICOLOGIA</td>\n",
              "    </tr>\n",
              "    <tr>\n",
              "      <th>ESTU_PRGM_DEPARTAMENTO</th>\n",
              "      <td>BOGOTÁ</td>\n",
              "      <td>ATLANTICO</td>\n",
              "      <td>BOGOTÁ</td>\n",
              "      <td>SANTANDER</td>\n",
              "      <td>ANTIOQUIA</td>\n",
              "    </tr>\n",
              "    <tr>\n",
              "      <th>ESTU_VALORMATRICULAUNIVERSIDAD</th>\n",
              "      <td>Entre 5.5 millones y menos de 7 millones</td>\n",
              "      <td>Entre 2.5 millones y menos de 4 millones</td>\n",
              "      <td>Entre 2.5 millones y menos de 4 millones</td>\n",
              "      <td>Entre 4 millones y menos de 5.5 millones</td>\n",
              "      <td>Entre 2.5 millones y menos de 4 millones</td>\n",
              "    </tr>\n",
              "    <tr>\n",
              "      <th>ESTU_HORASSEMANATRABAJA</th>\n",
              "      <td>Menos de 10 horas</td>\n",
              "      <td>0</td>\n",
              "      <td>Más de 30 horas</td>\n",
              "      <td>0</td>\n",
              "      <td>Entre 21 y 30 horas</td>\n",
              "    </tr>\n",
              "    <tr>\n",
              "      <th>FAMI_ESTRATOVIVIENDA</th>\n",
              "      <td>Estrato 3</td>\n",
              "      <td>Estrato 3</td>\n",
              "      <td>Estrato 3</td>\n",
              "      <td>Estrato 4</td>\n",
              "      <td>Estrato 3</td>\n",
              "    </tr>\n",
              "    <tr>\n",
              "      <th>FAMI_TIENEINTERNET</th>\n",
              "      <td>Si</td>\n",
              "      <td>No</td>\n",
              "      <td>Si</td>\n",
              "      <td>Si</td>\n",
              "      <td>Si</td>\n",
              "    </tr>\n",
              "    <tr>\n",
              "      <th>FAMI_EDUCACIONPADRE</th>\n",
              "      <td>Técnica o tecnológica incompleta</td>\n",
              "      <td>Técnica o tecnológica completa</td>\n",
              "      <td>Secundaria (Bachillerato) completa</td>\n",
              "      <td>No sabe</td>\n",
              "      <td>Primaria completa</td>\n",
              "    </tr>\n",
              "    <tr>\n",
              "      <th>FAMI_EDUCACIONMADRE</th>\n",
              "      <td>Postgrado</td>\n",
              "      <td>Técnica o tecnológica incompleta</td>\n",
              "      <td>Secundaria (Bachillerato) completa</td>\n",
              "      <td>Secundaria (Bachillerato) completa</td>\n",
              "      <td>Primaria completa</td>\n",
              "    </tr>\n",
              "    <tr>\n",
              "      <th>ESTU_PAGOMATRICULAPROPIO</th>\n",
              "      <td>No</td>\n",
              "      <td>No</td>\n",
              "      <td>No</td>\n",
              "      <td>No</td>\n",
              "      <td>No</td>\n",
              "    </tr>\n",
              "    <tr>\n",
              "      <th>RENDIMIENTO_GLOBAL</th>\n",
              "      <td>medio-alto</td>\n",
              "      <td>bajo</td>\n",
              "      <td>bajo</td>\n",
              "      <td>alto</td>\n",
              "      <td>medio-bajo</td>\n",
              "    </tr>\n",
              "  </tbody>\n",
              "</table>\n",
              "</div>\n",
              "    <div class=\"colab-df-buttons\">\n",
              "\n",
              "  <div class=\"colab-df-container\">\n",
              "    <button class=\"colab-df-convert\" onclick=\"convertToInteractive('df-b6ff2aba-de5e-46fc-8a59-c6b43494cc8c')\"\n",
              "            title=\"Convert this dataframe to an interactive table.\"\n",
              "            style=\"display:none;\">\n",
              "\n",
              "  <svg xmlns=\"http://www.w3.org/2000/svg\" height=\"24px\" viewBox=\"0 -960 960 960\">\n",
              "    <path d=\"M120-120v-720h720v720H120Zm60-500h600v-160H180v160Zm220 220h160v-160H400v160Zm0 220h160v-160H400v160ZM180-400h160v-160H180v160Zm440 0h160v-160H620v160ZM180-180h160v-160H180v160Zm440 0h160v-160H620v160Z\"/>\n",
              "  </svg>\n",
              "    </button>\n",
              "\n",
              "  <style>\n",
              "    .colab-df-container {\n",
              "      display:flex;\n",
              "      gap: 12px;\n",
              "    }\n",
              "\n",
              "    .colab-df-convert {\n",
              "      background-color: #E8F0FE;\n",
              "      border: none;\n",
              "      border-radius: 50%;\n",
              "      cursor: pointer;\n",
              "      display: none;\n",
              "      fill: #1967D2;\n",
              "      height: 32px;\n",
              "      padding: 0 0 0 0;\n",
              "      width: 32px;\n",
              "    }\n",
              "\n",
              "    .colab-df-convert:hover {\n",
              "      background-color: #E2EBFA;\n",
              "      box-shadow: 0px 1px 2px rgba(60, 64, 67, 0.3), 0px 1px 3px 1px rgba(60, 64, 67, 0.15);\n",
              "      fill: #174EA6;\n",
              "    }\n",
              "\n",
              "    .colab-df-buttons div {\n",
              "      margin-bottom: 4px;\n",
              "    }\n",
              "\n",
              "    [theme=dark] .colab-df-convert {\n",
              "      background-color: #3B4455;\n",
              "      fill: #D2E3FC;\n",
              "    }\n",
              "\n",
              "    [theme=dark] .colab-df-convert:hover {\n",
              "      background-color: #434B5C;\n",
              "      box-shadow: 0px 1px 3px 1px rgba(0, 0, 0, 0.15);\n",
              "      filter: drop-shadow(0px 1px 2px rgba(0, 0, 0, 0.3));\n",
              "      fill: #FFFFFF;\n",
              "    }\n",
              "  </style>\n",
              "\n",
              "    <script>\n",
              "      const buttonEl =\n",
              "        document.querySelector('#df-b6ff2aba-de5e-46fc-8a59-c6b43494cc8c button.colab-df-convert');\n",
              "      buttonEl.style.display =\n",
              "        google.colab.kernel.accessAllowed ? 'block' : 'none';\n",
              "\n",
              "      async function convertToInteractive(key) {\n",
              "        const element = document.querySelector('#df-b6ff2aba-de5e-46fc-8a59-c6b43494cc8c');\n",
              "        const dataTable =\n",
              "          await google.colab.kernel.invokeFunction('convertToInteractive',\n",
              "                                                    [key], {});\n",
              "        if (!dataTable) return;\n",
              "\n",
              "        const docLinkHtml = 'Like what you see? Visit the ' +\n",
              "          '<a target=\"_blank\" href=https://colab.research.google.com/notebooks/data_table.ipynb>data table notebook</a>'\n",
              "          + ' to learn more about interactive tables.';\n",
              "        element.innerHTML = '';\n",
              "        dataTable['output_type'] = 'display_data';\n",
              "        await google.colab.output.renderOutput(dataTable, element);\n",
              "        const docLink = document.createElement('div');\n",
              "        docLink.innerHTML = docLinkHtml;\n",
              "        element.appendChild(docLink);\n",
              "      }\n",
              "    </script>\n",
              "  </div>\n",
              "\n",
              "\n",
              "<div id=\"df-7fd6c194-a9e2-4d57-996e-4500d181d8b1\">\n",
              "  <button class=\"colab-df-quickchart\" onclick=\"quickchart('df-7fd6c194-a9e2-4d57-996e-4500d181d8b1')\"\n",
              "            title=\"Suggest charts\"\n",
              "            style=\"display:none;\">\n",
              "\n",
              "<svg xmlns=\"http://www.w3.org/2000/svg\" height=\"24px\"viewBox=\"0 0 24 24\"\n",
              "     width=\"24px\">\n",
              "    <g>\n",
              "        <path d=\"M19 3H5c-1.1 0-2 .9-2 2v14c0 1.1.9 2 2 2h14c1.1 0 2-.9 2-2V5c0-1.1-.9-2-2-2zM9 17H7v-7h2v7zm4 0h-2V7h2v10zm4 0h-2v-4h2v4z\"/>\n",
              "    </g>\n",
              "</svg>\n",
              "  </button>\n",
              "\n",
              "<style>\n",
              "  .colab-df-quickchart {\n",
              "      --bg-color: #E8F0FE;\n",
              "      --fill-color: #1967D2;\n",
              "      --hover-bg-color: #E2EBFA;\n",
              "      --hover-fill-color: #174EA6;\n",
              "      --disabled-fill-color: #AAA;\n",
              "      --disabled-bg-color: #DDD;\n",
              "  }\n",
              "\n",
              "  [theme=dark] .colab-df-quickchart {\n",
              "      --bg-color: #3B4455;\n",
              "      --fill-color: #D2E3FC;\n",
              "      --hover-bg-color: #434B5C;\n",
              "      --hover-fill-color: #FFFFFF;\n",
              "      --disabled-bg-color: #3B4455;\n",
              "      --disabled-fill-color: #666;\n",
              "  }\n",
              "\n",
              "  .colab-df-quickchart {\n",
              "    background-color: var(--bg-color);\n",
              "    border: none;\n",
              "    border-radius: 50%;\n",
              "    cursor: pointer;\n",
              "    display: none;\n",
              "    fill: var(--fill-color);\n",
              "    height: 32px;\n",
              "    padding: 0;\n",
              "    width: 32px;\n",
              "  }\n",
              "\n",
              "  .colab-df-quickchart:hover {\n",
              "    background-color: var(--hover-bg-color);\n",
              "    box-shadow: 0 1px 2px rgba(60, 64, 67, 0.3), 0 1px 3px 1px rgba(60, 64, 67, 0.15);\n",
              "    fill: var(--button-hover-fill-color);\n",
              "  }\n",
              "\n",
              "  .colab-df-quickchart-complete:disabled,\n",
              "  .colab-df-quickchart-complete:disabled:hover {\n",
              "    background-color: var(--disabled-bg-color);\n",
              "    fill: var(--disabled-fill-color);\n",
              "    box-shadow: none;\n",
              "  }\n",
              "\n",
              "  .colab-df-spinner {\n",
              "    border: 2px solid var(--fill-color);\n",
              "    border-color: transparent;\n",
              "    border-bottom-color: var(--fill-color);\n",
              "    animation:\n",
              "      spin 1s steps(1) infinite;\n",
              "  }\n",
              "\n",
              "  @keyframes spin {\n",
              "    0% {\n",
              "      border-color: transparent;\n",
              "      border-bottom-color: var(--fill-color);\n",
              "      border-left-color: var(--fill-color);\n",
              "    }\n",
              "    20% {\n",
              "      border-color: transparent;\n",
              "      border-left-color: var(--fill-color);\n",
              "      border-top-color: var(--fill-color);\n",
              "    }\n",
              "    30% {\n",
              "      border-color: transparent;\n",
              "      border-left-color: var(--fill-color);\n",
              "      border-top-color: var(--fill-color);\n",
              "      border-right-color: var(--fill-color);\n",
              "    }\n",
              "    40% {\n",
              "      border-color: transparent;\n",
              "      border-right-color: var(--fill-color);\n",
              "      border-top-color: var(--fill-color);\n",
              "    }\n",
              "    60% {\n",
              "      border-color: transparent;\n",
              "      border-right-color: var(--fill-color);\n",
              "    }\n",
              "    80% {\n",
              "      border-color: transparent;\n",
              "      border-right-color: var(--fill-color);\n",
              "      border-bottom-color: var(--fill-color);\n",
              "    }\n",
              "    90% {\n",
              "      border-color: transparent;\n",
              "      border-bottom-color: var(--fill-color);\n",
              "    }\n",
              "  }\n",
              "</style>\n",
              "\n",
              "  <script>\n",
              "    async function quickchart(key) {\n",
              "      const quickchartButtonEl =\n",
              "        document.querySelector('#' + key + ' button');\n",
              "      quickchartButtonEl.disabled = true;  // To prevent multiple clicks.\n",
              "      quickchartButtonEl.classList.add('colab-df-spinner');\n",
              "      try {\n",
              "        const charts = await google.colab.kernel.invokeFunction(\n",
              "            'suggestCharts', [key], {});\n",
              "      } catch (error) {\n",
              "        console.error('Error during call to suggestCharts:', error);\n",
              "      }\n",
              "      quickchartButtonEl.classList.remove('colab-df-spinner');\n",
              "      quickchartButtonEl.classList.add('colab-df-quickchart-complete');\n",
              "    }\n",
              "    (() => {\n",
              "      let quickchartButtonEl =\n",
              "        document.querySelector('#df-7fd6c194-a9e2-4d57-996e-4500d181d8b1 button');\n",
              "      quickchartButtonEl.style.display =\n",
              "        google.colab.kernel.accessAllowed ? 'block' : 'none';\n",
              "    })();\n",
              "  </script>\n",
              "</div>\n",
              "\n",
              "    </div>\n",
              "  </div>\n"
            ],
            "application/vnd.google.colaboratory.intrinsic+json": {
              "type": "dataframe",
              "variable_name": "train"
            }
          },
          "metadata": {},
          "execution_count": 27
        }
      ]
    },
    {
      "cell_type": "code",
      "source": [
        "def limpiar_y_preprocesar(data):\n",
        "\n",
        "  data = data.drop('ID', axis=1)\n",
        "  data['PERIODO'] = data['PERIODO'].astype(str).apply(lambda text: text[:4])\n",
        "  def normalize_text(text: str):\n",
        "    import unicodedata\n",
        "    import re\n",
        "    if not pd.isna(text):\n",
        "        # Normaliza el texto eliminando acentos\n",
        "        normalized = unicodedata.normalize('NFKD', text).encode('ASCII', 'ignore').decode('utf-8')\n",
        "        # Elimina caracteres no deseados, incluidos \"¿\" y \"?\"\n",
        "        return re.sub(r'[¿?]', '', normalized)\n",
        "    return text\n",
        "\n",
        "  def group_values_by_frequency(data: pd.DataFrame, col: str, thresholds: list[float] = [0.05, 0.2]):\n",
        "    \"\"\"\n",
        "    Agrupa los valores de una columna en función de su frecuencia relativa.\n",
        "    Los valores se agrupan en categorías basadas en una lista de umbrales.\n",
        "\n",
        "    Args:\n",
        "        data (pd.DataFrame): DataFrame de entrada.\n",
        "        col (str): Nombre de la columna a procesar.\n",
        "        thresholds (list[float]): Lista de umbrales para definir los grupos.\n",
        "\n",
        "    Returns:\n",
        "        pd.Series: Serie con los valores agrupados.\n",
        "    \"\"\"\n",
        "    porcentaje = data[col].value_counts(normalize=True)\n",
        "\n",
        "    def asignar_grupo(value):\n",
        "        freq = porcentaje[value]\n",
        "        for i, t in enumerate(thresholds):\n",
        "            if freq < t:\n",
        "                return f'GRUPO_{i+1}'\n",
        "        return 'GRUPO_ALTO'\n",
        "\n",
        "    return data[col].apply(asignar_grupo)\n",
        "\n",
        "\n",
        "  for col in ['ESTU_PRGM_ACADEMICO', 'ESTU_PRGM_DEPARTAMENTO']:\n",
        "      data[col] = data[col].apply(normalize_text)\n",
        "  for col in ['ESTU_PRGM_ACADEMICO', 'ESTU_PRGM_DEPARTAMENTO']:\n",
        "      data[col] = group_values_by_frequency(data, col)\n",
        "\n",
        "  mapeo = {'Si': 1, 'S': 1, 'No': 0, 'N':0}\n",
        "  target_columns = ['FAMI_TIENEINTERNET', 'ESTU_PAGOMATRICULAPROPIO']\n",
        "  for column in target_columns:\n",
        "      data[column] = data[column].map(mapeo)\n",
        "  for col in target_columns:\n",
        "    data[col] = data[col].fillna(0)\n",
        "\n",
        "  mapeo_estrato = {'Sin Estrato': 0, 'Estrato 1': 1, 'Estrato 2': 2, 'Estrato 3': 3, 'Estrato 4': 4, 'Estrato 5': 5, 'Estrato 6': 6}\n",
        "\n",
        "  data['FAMI_ESTRATOVIVIENDA'] = data['FAMI_ESTRATOVIVIENDA'].map(mapeo_estrato)\n",
        "\n",
        "  mode_value = data['FAMI_ESTRATOVIVIENDA'].mode()[0]\n",
        "\n",
        "\n",
        "  data['FAMI_ESTRATOVIVIENDA'] = data['FAMI_ESTRATOVIVIENDA'].fillna(mode_value)\n",
        "\n",
        "  variables_continuas = ['ESTU_VALORMATRICULAUNIVERSIDAD', 'ESTU_HORASSEMANATRABAJA']\n",
        "\n",
        "  mapeo_valores_matricula = {\n",
        "      'Menos de 500 mil': 0,\n",
        "      'Entre 500 mil y menos de 1 millón': 1,\n",
        "      'Entre 1 millón y menos de 2.5 millones': 2,\n",
        "      'Entre 2.5 millones y menos de 4 millones': 3,\n",
        "      'Entre 4 millones y menos de 5.5 millones': 4,\n",
        "      'Entre 5.5 millones y menos de 7 millones': 5,\n",
        "      'Más de 7 millones': 6,\n",
        "      'No pagó matrícula': 7\n",
        "  }\n",
        "\n",
        "  mapeo_valores_horas_trabajo = {\n",
        "      '0': 0,\n",
        "      'Menos de 10 horas': 1,\n",
        "      'Entre 11 y 20 horas': 2,\n",
        "      'Entre 21 y 30 horas': 3,\n",
        "      'Más de 30 horas': 4\n",
        "  }\n",
        "\n",
        "\n",
        "  data['ESTU_VALORMATRICULAUNIVERSIDAD'] = data['ESTU_VALORMATRICULAUNIVERSIDAD'].map(mapeo_valores_matricula)\n",
        "  data['ESTU_HORASSEMANATRABAJA'] = data['ESTU_HORASSEMANATRABAJA'].map(mapeo_valores_horas_trabajo)\n",
        "  for col in variables_continuas:\n",
        "    data[col] = data[col].fillna(0)\n",
        "\n",
        "  moda_padre = data['FAMI_EDUCACIONPADRE'].mode()[0]\n",
        "  moda_madre = data['FAMI_EDUCACIONMADRE'].mode()[0]\n",
        "\n",
        "\n",
        "  data['FAMI_EDUCACIONPADRE'] = data['FAMI_EDUCACIONPADRE'].fillna(moda_padre)\n",
        "  data['FAMI_EDUCACIONMADRE'] = data['FAMI_EDUCACIONMADRE'].fillna(moda_madre)\n",
        "  data = pd.get_dummies(data, columns=[ 'FAMI_EDUCACIONPADRE', 'FAMI_EDUCACIONMADRE','ESTU_PRGM_ACADEMICO', 'ESTU_PRGM_DEPARTAMENTO'], prefix=['FAMI_EDUCACIONPADRE', 'FAMI_EDUCACIONMADRE','ESTU_PRGM_ACADEMICO', 'ESTU_PRGM_DEPARTAMENTO'])\n",
        "  data.replace({True: 1, False: 0})\n",
        "\n",
        "  return data\n"
      ],
      "metadata": {
        "id": "TV1xozwn7tiy"
      },
      "execution_count": 58,
      "outputs": []
    },
    {
      "cell_type": "code",
      "source": [
        "dtr = train\n",
        "dts = test\n",
        "lentr = len(dtr)\n",
        "dtr.shape, dts.shape"
      ],
      "metadata": {
        "colab": {
          "base_uri": "https://localhost:8080/"
        },
        "id": "Flq-yGpQWUjP",
        "outputId": "104db79b-81c1-4e0d-ada1-bcc69f52e143"
      },
      "execution_count": 59,
      "outputs": [
        {
          "output_type": "execute_result",
          "data": {
            "text/plain": [
              "((692500, 12), (296786, 12))"
            ]
          },
          "metadata": {},
          "execution_count": 59
        }
      ]
    },
    {
      "cell_type": "code",
      "source": [
        "source_cols = [i for i in dtr.columns if i!=\"RENDIMIENTO_GLOBAL\"]\n",
        "all_data = pd.concat((dtr[source_cols], dts[source_cols]))\n",
        "all_data.index = range(len(all_data))\n",
        "all_data = limpiar_y_preprocesar(all_data)\n",
        "\n",
        "Xtrk, ytrk = all_data.iloc[:lentr].values, dtr[\"RENDIMIENTO_GLOBAL\"].values\n",
        "Xtsk  = all_data.iloc[lentr:].values\n",
        "\n",
        "print (Xtrk.shape, ytrk.shape)\n",
        "print (Xtsk.shape)"
      ],
      "metadata": {
        "colab": {
          "base_uri": "https://localhost:8080/"
        },
        "id": "d7LUho6OWW73",
        "outputId": "0d1ad543-d1b9-496d-afbd-395df274720e"
      },
      "execution_count": 60,
      "outputs": [
        {
          "output_type": "stream",
          "name": "stderr",
          "text": [
            "<ipython-input-58-e72dcb4effff>:95: FutureWarning: Downcasting behavior in `replace` is deprecated and will be removed in a future version. To retain the old behavior, explicitly call `result.infer_objects(copy=False)`. To opt-in to the future behavior, set `pd.set_option('future.no_silent_downcasting', True)`\n",
            "  data.replace({True: 1, False: 0})\n"
          ]
        },
        {
          "output_type": "stream",
          "name": "stdout",
          "text": [
            "(692500, 35) (692500,)\n",
            "(296786, 35)\n"
          ]
        }
      ]
    },
    {
      "cell_type": "code",
      "source": [
        "n = int(len(Xtrk)*0.7)\n",
        "n"
      ],
      "metadata": {
        "colab": {
          "base_uri": "https://localhost:8080/"
        },
        "id": "B_XU3jEuWYHf",
        "outputId": "88558865-aa8c-41cb-fdcd-f83a5ddf473c"
      },
      "execution_count": 61,
      "outputs": [
        {
          "output_type": "execute_result",
          "data": {
            "text/plain": [
              "484749"
            ]
          },
          "metadata": {},
          "execution_count": 61
        }
      ]
    },
    {
      "cell_type": "code",
      "source": [
        "idxs = np.random.permutation(len(Xtrk))\n",
        "idxs_trm = idxs[:n]\n",
        "idxs_tsm = idxs[n:]\n",
        "\n",
        "Xtrm = Xtrk[idxs_trm]\n",
        "ytrm = ytrk[idxs_trm]\n",
        "\n",
        "Xtsm = Xtrk[idxs_tsm]\n",
        "ytsm = ytrk[idxs_tsm]\n",
        "\n",
        "print (Xtrm.shape, ytrm.shape, Xtsm.shape, ytsm.shape)"
      ],
      "metadata": {
        "colab": {
          "base_uri": "https://localhost:8080/"
        },
        "id": "njXA_RweWZNO",
        "outputId": "43e74c1f-513b-4dfd-e6f8-a01ddb3d6327"
      },
      "execution_count": 62,
      "outputs": [
        {
          "output_type": "stream",
          "name": "stdout",
          "text": [
            "(484749, 35) (484749,) (207751, 35) (207751,)\n"
          ]
        }
      ]
    },
    {
      "cell_type": "code",
      "source": [
        "import lightgbm as lgb\n",
        "from sklearn.preprocessing import LabelEncoder\n",
        "from sklearn.metrics import accuracy_score\n",
        "\n",
        "# Codificación de las etiquetas de salida\n",
        "label_encoder = LabelEncoder()\n",
        "label_encoder.fit(ytrm)  # Fit with training data labels (ytrm)\n",
        "\n",
        "ytsm_encoded = label_encoder.transform(ytsm)\n",
        "ytrm_encoded = label_encoder.transform(ytrm)\n",
        "\n",
        "# Configuración del modelo\n",
        "params = {\n",
        "    'objective': 'multiclass',\n",
        "    'num_class': len(label_encoder.classes_),\n",
        "    'metric': 'multi_logloss',\n",
        "    'boosting_type': 'gbdt',\n",
        "    'learning_rate': 0.1,  # Tasa de aprendizaje inicial\n",
        "    'num_leaves': 31,      # Ajuste básico\n",
        "    'max_depth': -1,       # Sin límite en profundidad\n",
        "    'verbose': -1\n",
        "}\n",
        "\n",
        "# Entrenar el modelo\n",
        "\n",
        "# Codificar las etiquetas para el conjunto de entrenamiento\n",
        "# Crear dataset LightGBM\n",
        "d_train = lgb.Dataset(Xtrm, label=ytrm_encoded)\n",
        "\n",
        "# Entrenar el modelo\n",
        "modelo = lgb.train(params, d_train, num_boost_round=100)\n",
        "\n",
        "# Predicción en conjunto de prueba\n",
        "y_pred_proba = modelo.predict(Xtsm)  # Probabilidades predichas\n",
        "y_pred = y_pred_proba.argmax(axis=1)  # Etiquetas predichas\n",
        "\n",
        "# Evaluar precisión\n",
        "print(\"Precisión del modelo ajustado:\", accuracy_score(ytsm_encoded, y_pred))\n"
      ],
      "metadata": {
        "colab": {
          "base_uri": "https://localhost:8080/"
        },
        "id": "Au5BKIccFNg9",
        "outputId": "1db61f0d-3083-4275-87a8-114a9687928a"
      },
      "execution_count": 66,
      "outputs": [
        {
          "output_type": "stream",
          "name": "stdout",
          "text": [
            "Precisión del modelo ajustado: 0.40258289972130096\n"
          ]
        }
      ]
    }
  ]
}