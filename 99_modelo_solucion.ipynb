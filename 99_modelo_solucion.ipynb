{
  "nbformat": 4,
  "nbformat_minor": 0,
  "metadata": {
    "colab": {
      "provenance": [],
      "include_colab_link": true
    },
    "kernelspec": {
      "name": "python3",
      "display_name": "Python 3"
    },
    "language_info": {
      "name": "python"
    }
  },
  "cells": [
    {
      "cell_type": "markdown",
      "metadata": {
        "id": "view-in-github",
        "colab_type": "text"
      },
      "source": [
        "<a href=\"https://colab.research.google.com/github/Yannethtj/PruebasSaberProInteligenciaArtificial/blob/main/99_modelo_solucion.ipynb\" target=\"_parent\"><img src=\"https://colab.research.google.com/assets/colab-badge.svg\" alt=\"Open In Colab\"/></a>"
      ]
    },
    {
      "cell_type": "code",
      "execution_count": 1,
      "metadata": {
        "colab": {
          "base_uri": "https://localhost:8080/"
        },
        "id": "qE7-_4DoHVLb",
        "outputId": "1fe523ec-22c3-4198-a90b-dc2e7b6507d3"
      },
      "outputs": [
        {
          "output_type": "stream",
          "name": "stdout",
          "text": [
            "Warning: Your Kaggle API key is readable by other users on this system! To fix this, you can run 'chmod 600 ./kaggle.json'\n",
            "usage: kaggle [-h] [-v] [-W] {competitions,c,datasets,d,kernels,k,models,m,files,f,config} ...\n",
            "kaggle: error: the following arguments are required: command\n"
          ]
        }
      ],
      "source": [
        "import os\n",
        "os.environ['KAGGLE_CONFIG_DIR'] = '.'\n",
        "!kaggle\n",
        "!chmod 600 ./kaggle.json"
      ]
    },
    {
      "cell_type": "code",
      "source": [
        "!kaggle competitions download -c udea-ai4eng-20242"
      ],
      "metadata": {
        "colab": {
          "base_uri": "https://localhost:8080/"
        },
        "id": "llIC9McpJa_l",
        "outputId": "b5d03464-ea7d-4258-8a98-e92f9fd7bb98"
      },
      "execution_count": 2,
      "outputs": [
        {
          "output_type": "stream",
          "name": "stdout",
          "text": [
            "Downloading udea-ai4eng-20242.zip to /content\n",
            " 70% 14.0M/20.1M [00:00<00:00, 54.1MB/s]\n",
            "100% 20.1M/20.1M [00:00<00:00, 60.8MB/s]\n"
          ]
        }
      ]
    },
    {
      "cell_type": "code",
      "source": [
        "!unzip udea-ai4eng-20242.zip\n"
      ],
      "metadata": {
        "colab": {
          "base_uri": "https://localhost:8080/"
        },
        "id": "r5OPgCMyKU8W",
        "outputId": "7712b5ad-aeda-4bcf-9763-28d8be66c309"
      },
      "execution_count": 3,
      "outputs": [
        {
          "output_type": "stream",
          "name": "stdout",
          "text": [
            "Archive:  udea-ai4eng-20242.zip\n",
            "  inflating: submission_example.csv  \n",
            "  inflating: test.csv                \n",
            "  inflating: train.csv               \n"
          ]
        }
      ]
    },
    {
      "cell_type": "code",
      "source": [
        "\n",
        "import pandas as pd\n",
        "import numpy as np\n",
        "from sklearn.metrics import accuracy_score, classification_report, ConfusionMatrixDisplay\n",
        "from sklearn.model_selection import train_test_split\n",
        "from sklearn.preprocessing import LabelEncoder\n",
        "import seaborn as sns\n",
        "import xgboost as xgb\n",
        "import matplotlib.pyplot as plt\n",
        "\n",
        "\n"
      ],
      "metadata": {
        "id": "3UTADUWSKZTZ"
      },
      "execution_count": 4,
      "outputs": []
    },
    {
      "cell_type": "code",
      "source": [
        "train = pd.read_csv('train.csv')\n",
        "test = pd.read_csv('test.csv')"
      ],
      "metadata": {
        "id": "vsdE1IrAKvdY"
      },
      "execution_count": 5,
      "outputs": []
    },
    {
      "cell_type": "code",
      "source": [],
      "metadata": {
        "id": "-22TY9kWDzW0"
      },
      "execution_count": null,
      "outputs": []
    },
    {
      "cell_type": "code",
      "source": [
        "train.head().T"
      ],
      "metadata": {
        "colab": {
          "base_uri": "https://localhost:8080/",
          "height": 495
        },
        "id": "NDS2ZZSdK1ny",
        "outputId": "cf067e5d-9a1d-436c-af87-6159b6bc16e4"
      },
      "execution_count": null,
      "outputs": [
        {
          "output_type": "execute_result",
          "data": {
            "text/plain": [
              "                                                                       0  \\\n",
              "ID                                                                904256   \n",
              "PERIODO                                                            20212   \n",
              "ESTU_PRGM_ACADEMICO                                           ENFERMERIA   \n",
              "ESTU_PRGM_DEPARTAMENTO                                            BOGOTÁ   \n",
              "ESTU_VALORMATRICULAUNIVERSIDAD  Entre 5.5 millones y menos de 7 millones   \n",
              "ESTU_HORASSEMANATRABAJA                                Menos de 10 horas   \n",
              "FAMI_ESTRATOVIVIENDA                                           Estrato 3   \n",
              "FAMI_TIENEINTERNET                                                    Si   \n",
              "FAMI_EDUCACIONPADRE                     Técnica o tecnológica incompleta   \n",
              "FAMI_EDUCACIONMADRE                                            Postgrado   \n",
              "ESTU_PAGOMATRICULAPROPIO                                              No   \n",
              "RENDIMIENTO_GLOBAL                                            medio-alto   \n",
              "\n",
              "                                                                       1  \\\n",
              "ID                                                                645256   \n",
              "PERIODO                                                            20212   \n",
              "ESTU_PRGM_ACADEMICO                                              DERECHO   \n",
              "ESTU_PRGM_DEPARTAMENTO                                         ATLANTICO   \n",
              "ESTU_VALORMATRICULAUNIVERSIDAD  Entre 2.5 millones y menos de 4 millones   \n",
              "ESTU_HORASSEMANATRABAJA                                                0   \n",
              "FAMI_ESTRATOVIVIENDA                                           Estrato 3   \n",
              "FAMI_TIENEINTERNET                                                    No   \n",
              "FAMI_EDUCACIONPADRE                       Técnica o tecnológica completa   \n",
              "FAMI_EDUCACIONMADRE                     Técnica o tecnológica incompleta   \n",
              "ESTU_PAGOMATRICULAPROPIO                                              No   \n",
              "RENDIMIENTO_GLOBAL                                                  bajo   \n",
              "\n",
              "                                                                       2  \\\n",
              "ID                                                                308367   \n",
              "PERIODO                                                            20203   \n",
              "ESTU_PRGM_ACADEMICO                                MERCADEO Y PUBLICIDAD   \n",
              "ESTU_PRGM_DEPARTAMENTO                                            BOGOTÁ   \n",
              "ESTU_VALORMATRICULAUNIVERSIDAD  Entre 2.5 millones y menos de 4 millones   \n",
              "ESTU_HORASSEMANATRABAJA                                  Más de 30 horas   \n",
              "FAMI_ESTRATOVIVIENDA                                           Estrato 3   \n",
              "FAMI_TIENEINTERNET                                                    Si   \n",
              "FAMI_EDUCACIONPADRE                   Secundaria (Bachillerato) completa   \n",
              "FAMI_EDUCACIONMADRE                   Secundaria (Bachillerato) completa   \n",
              "ESTU_PAGOMATRICULAPROPIO                                              No   \n",
              "RENDIMIENTO_GLOBAL                                                  bajo   \n",
              "\n",
              "                                                                       3  \\\n",
              "ID                                                                470353   \n",
              "PERIODO                                                            20195   \n",
              "ESTU_PRGM_ACADEMICO                           ADMINISTRACION DE EMPRESAS   \n",
              "ESTU_PRGM_DEPARTAMENTO                                         SANTANDER   \n",
              "ESTU_VALORMATRICULAUNIVERSIDAD  Entre 4 millones y menos de 5.5 millones   \n",
              "ESTU_HORASSEMANATRABAJA                                                0   \n",
              "FAMI_ESTRATOVIVIENDA                                           Estrato 4   \n",
              "FAMI_TIENEINTERNET                                                    Si   \n",
              "FAMI_EDUCACIONPADRE                                              No sabe   \n",
              "FAMI_EDUCACIONMADRE                   Secundaria (Bachillerato) completa   \n",
              "ESTU_PAGOMATRICULAPROPIO                                              No   \n",
              "RENDIMIENTO_GLOBAL                                                  alto   \n",
              "\n",
              "                                                                       4  \n",
              "ID                                                                989032  \n",
              "PERIODO                                                            20212  \n",
              "ESTU_PRGM_ACADEMICO                                           PSICOLOGIA  \n",
              "ESTU_PRGM_DEPARTAMENTO                                         ANTIOQUIA  \n",
              "ESTU_VALORMATRICULAUNIVERSIDAD  Entre 2.5 millones y menos de 4 millones  \n",
              "ESTU_HORASSEMANATRABAJA                              Entre 21 y 30 horas  \n",
              "FAMI_ESTRATOVIVIENDA                                           Estrato 3  \n",
              "FAMI_TIENEINTERNET                                                    Si  \n",
              "FAMI_EDUCACIONPADRE                                    Primaria completa  \n",
              "FAMI_EDUCACIONMADRE                                    Primaria completa  \n",
              "ESTU_PAGOMATRICULAPROPIO                                              No  \n",
              "RENDIMIENTO_GLOBAL                                            medio-bajo  "
            ],
            "text/html": [
              "\n",
              "  <div id=\"df-b6ff2aba-de5e-46fc-8a59-c6b43494cc8c\" class=\"colab-df-container\">\n",
              "    <div>\n",
              "<style scoped>\n",
              "    .dataframe tbody tr th:only-of-type {\n",
              "        vertical-align: middle;\n",
              "    }\n",
              "\n",
              "    .dataframe tbody tr th {\n",
              "        vertical-align: top;\n",
              "    }\n",
              "\n",
              "    .dataframe thead th {\n",
              "        text-align: right;\n",
              "    }\n",
              "</style>\n",
              "<table border=\"1\" class=\"dataframe\">\n",
              "  <thead>\n",
              "    <tr style=\"text-align: right;\">\n",
              "      <th></th>\n",
              "      <th>0</th>\n",
              "      <th>1</th>\n",
              "      <th>2</th>\n",
              "      <th>3</th>\n",
              "      <th>4</th>\n",
              "    </tr>\n",
              "  </thead>\n",
              "  <tbody>\n",
              "    <tr>\n",
              "      <th>ID</th>\n",
              "      <td>904256</td>\n",
              "      <td>645256</td>\n",
              "      <td>308367</td>\n",
              "      <td>470353</td>\n",
              "      <td>989032</td>\n",
              "    </tr>\n",
              "    <tr>\n",
              "      <th>PERIODO</th>\n",
              "      <td>20212</td>\n",
              "      <td>20212</td>\n",
              "      <td>20203</td>\n",
              "      <td>20195</td>\n",
              "      <td>20212</td>\n",
              "    </tr>\n",
              "    <tr>\n",
              "      <th>ESTU_PRGM_ACADEMICO</th>\n",
              "      <td>ENFERMERIA</td>\n",
              "      <td>DERECHO</td>\n",
              "      <td>MERCADEO Y PUBLICIDAD</td>\n",
              "      <td>ADMINISTRACION DE EMPRESAS</td>\n",
              "      <td>PSICOLOGIA</td>\n",
              "    </tr>\n",
              "    <tr>\n",
              "      <th>ESTU_PRGM_DEPARTAMENTO</th>\n",
              "      <td>BOGOTÁ</td>\n",
              "      <td>ATLANTICO</td>\n",
              "      <td>BOGOTÁ</td>\n",
              "      <td>SANTANDER</td>\n",
              "      <td>ANTIOQUIA</td>\n",
              "    </tr>\n",
              "    <tr>\n",
              "      <th>ESTU_VALORMATRICULAUNIVERSIDAD</th>\n",
              "      <td>Entre 5.5 millones y menos de 7 millones</td>\n",
              "      <td>Entre 2.5 millones y menos de 4 millones</td>\n",
              "      <td>Entre 2.5 millones y menos de 4 millones</td>\n",
              "      <td>Entre 4 millones y menos de 5.5 millones</td>\n",
              "      <td>Entre 2.5 millones y menos de 4 millones</td>\n",
              "    </tr>\n",
              "    <tr>\n",
              "      <th>ESTU_HORASSEMANATRABAJA</th>\n",
              "      <td>Menos de 10 horas</td>\n",
              "      <td>0</td>\n",
              "      <td>Más de 30 horas</td>\n",
              "      <td>0</td>\n",
              "      <td>Entre 21 y 30 horas</td>\n",
              "    </tr>\n",
              "    <tr>\n",
              "      <th>FAMI_ESTRATOVIVIENDA</th>\n",
              "      <td>Estrato 3</td>\n",
              "      <td>Estrato 3</td>\n",
              "      <td>Estrato 3</td>\n",
              "      <td>Estrato 4</td>\n",
              "      <td>Estrato 3</td>\n",
              "    </tr>\n",
              "    <tr>\n",
              "      <th>FAMI_TIENEINTERNET</th>\n",
              "      <td>Si</td>\n",
              "      <td>No</td>\n",
              "      <td>Si</td>\n",
              "      <td>Si</td>\n",
              "      <td>Si</td>\n",
              "    </tr>\n",
              "    <tr>\n",
              "      <th>FAMI_EDUCACIONPADRE</th>\n",
              "      <td>Técnica o tecnológica incompleta</td>\n",
              "      <td>Técnica o tecnológica completa</td>\n",
              "      <td>Secundaria (Bachillerato) completa</td>\n",
              "      <td>No sabe</td>\n",
              "      <td>Primaria completa</td>\n",
              "    </tr>\n",
              "    <tr>\n",
              "      <th>FAMI_EDUCACIONMADRE</th>\n",
              "      <td>Postgrado</td>\n",
              "      <td>Técnica o tecnológica incompleta</td>\n",
              "      <td>Secundaria (Bachillerato) completa</td>\n",
              "      <td>Secundaria (Bachillerato) completa</td>\n",
              "      <td>Primaria completa</td>\n",
              "    </tr>\n",
              "    <tr>\n",
              "      <th>ESTU_PAGOMATRICULAPROPIO</th>\n",
              "      <td>No</td>\n",
              "      <td>No</td>\n",
              "      <td>No</td>\n",
              "      <td>No</td>\n",
              "      <td>No</td>\n",
              "    </tr>\n",
              "    <tr>\n",
              "      <th>RENDIMIENTO_GLOBAL</th>\n",
              "      <td>medio-alto</td>\n",
              "      <td>bajo</td>\n",
              "      <td>bajo</td>\n",
              "      <td>alto</td>\n",
              "      <td>medio-bajo</td>\n",
              "    </tr>\n",
              "  </tbody>\n",
              "</table>\n",
              "</div>\n",
              "    <div class=\"colab-df-buttons\">\n",
              "\n",
              "  <div class=\"colab-df-container\">\n",
              "    <button class=\"colab-df-convert\" onclick=\"convertToInteractive('df-b6ff2aba-de5e-46fc-8a59-c6b43494cc8c')\"\n",
              "            title=\"Convert this dataframe to an interactive table.\"\n",
              "            style=\"display:none;\">\n",
              "\n",
              "  <svg xmlns=\"http://www.w3.org/2000/svg\" height=\"24px\" viewBox=\"0 -960 960 960\">\n",
              "    <path d=\"M120-120v-720h720v720H120Zm60-500h600v-160H180v160Zm220 220h160v-160H400v160Zm0 220h160v-160H400v160ZM180-400h160v-160H180v160Zm440 0h160v-160H620v160ZM180-180h160v-160H180v160Zm440 0h160v-160H620v160Z\"/>\n",
              "  </svg>\n",
              "    </button>\n",
              "\n",
              "  <style>\n",
              "    .colab-df-container {\n",
              "      display:flex;\n",
              "      gap: 12px;\n",
              "    }\n",
              "\n",
              "    .colab-df-convert {\n",
              "      background-color: #E8F0FE;\n",
              "      border: none;\n",
              "      border-radius: 50%;\n",
              "      cursor: pointer;\n",
              "      display: none;\n",
              "      fill: #1967D2;\n",
              "      height: 32px;\n",
              "      padding: 0 0 0 0;\n",
              "      width: 32px;\n",
              "    }\n",
              "\n",
              "    .colab-df-convert:hover {\n",
              "      background-color: #E2EBFA;\n",
              "      box-shadow: 0px 1px 2px rgba(60, 64, 67, 0.3), 0px 1px 3px 1px rgba(60, 64, 67, 0.15);\n",
              "      fill: #174EA6;\n",
              "    }\n",
              "\n",
              "    .colab-df-buttons div {\n",
              "      margin-bottom: 4px;\n",
              "    }\n",
              "\n",
              "    [theme=dark] .colab-df-convert {\n",
              "      background-color: #3B4455;\n",
              "      fill: #D2E3FC;\n",
              "    }\n",
              "\n",
              "    [theme=dark] .colab-df-convert:hover {\n",
              "      background-color: #434B5C;\n",
              "      box-shadow: 0px 1px 3px 1px rgba(0, 0, 0, 0.15);\n",
              "      filter: drop-shadow(0px 1px 2px rgba(0, 0, 0, 0.3));\n",
              "      fill: #FFFFFF;\n",
              "    }\n",
              "  </style>\n",
              "\n",
              "    <script>\n",
              "      const buttonEl =\n",
              "        document.querySelector('#df-b6ff2aba-de5e-46fc-8a59-c6b43494cc8c button.colab-df-convert');\n",
              "      buttonEl.style.display =\n",
              "        google.colab.kernel.accessAllowed ? 'block' : 'none';\n",
              "\n",
              "      async function convertToInteractive(key) {\n",
              "        const element = document.querySelector('#df-b6ff2aba-de5e-46fc-8a59-c6b43494cc8c');\n",
              "        const dataTable =\n",
              "          await google.colab.kernel.invokeFunction('convertToInteractive',\n",
              "                                                    [key], {});\n",
              "        if (!dataTable) return;\n",
              "\n",
              "        const docLinkHtml = 'Like what you see? Visit the ' +\n",
              "          '<a target=\"_blank\" href=https://colab.research.google.com/notebooks/data_table.ipynb>data table notebook</a>'\n",
              "          + ' to learn more about interactive tables.';\n",
              "        element.innerHTML = '';\n",
              "        dataTable['output_type'] = 'display_data';\n",
              "        await google.colab.output.renderOutput(dataTable, element);\n",
              "        const docLink = document.createElement('div');\n",
              "        docLink.innerHTML = docLinkHtml;\n",
              "        element.appendChild(docLink);\n",
              "      }\n",
              "    </script>\n",
              "  </div>\n",
              "\n",
              "\n",
              "<div id=\"df-7fd6c194-a9e2-4d57-996e-4500d181d8b1\">\n",
              "  <button class=\"colab-df-quickchart\" onclick=\"quickchart('df-7fd6c194-a9e2-4d57-996e-4500d181d8b1')\"\n",
              "            title=\"Suggest charts\"\n",
              "            style=\"display:none;\">\n",
              "\n",
              "<svg xmlns=\"http://www.w3.org/2000/svg\" height=\"24px\"viewBox=\"0 0 24 24\"\n",
              "     width=\"24px\">\n",
              "    <g>\n",
              "        <path d=\"M19 3H5c-1.1 0-2 .9-2 2v14c0 1.1.9 2 2 2h14c1.1 0 2-.9 2-2V5c0-1.1-.9-2-2-2zM9 17H7v-7h2v7zm4 0h-2V7h2v10zm4 0h-2v-4h2v4z\"/>\n",
              "    </g>\n",
              "</svg>\n",
              "  </button>\n",
              "\n",
              "<style>\n",
              "  .colab-df-quickchart {\n",
              "      --bg-color: #E8F0FE;\n",
              "      --fill-color: #1967D2;\n",
              "      --hover-bg-color: #E2EBFA;\n",
              "      --hover-fill-color: #174EA6;\n",
              "      --disabled-fill-color: #AAA;\n",
              "      --disabled-bg-color: #DDD;\n",
              "  }\n",
              "\n",
              "  [theme=dark] .colab-df-quickchart {\n",
              "      --bg-color: #3B4455;\n",
              "      --fill-color: #D2E3FC;\n",
              "      --hover-bg-color: #434B5C;\n",
              "      --hover-fill-color: #FFFFFF;\n",
              "      --disabled-bg-color: #3B4455;\n",
              "      --disabled-fill-color: #666;\n",
              "  }\n",
              "\n",
              "  .colab-df-quickchart {\n",
              "    background-color: var(--bg-color);\n",
              "    border: none;\n",
              "    border-radius: 50%;\n",
              "    cursor: pointer;\n",
              "    display: none;\n",
              "    fill: var(--fill-color);\n",
              "    height: 32px;\n",
              "    padding: 0;\n",
              "    width: 32px;\n",
              "  }\n",
              "\n",
              "  .colab-df-quickchart:hover {\n",
              "    background-color: var(--hover-bg-color);\n",
              "    box-shadow: 0 1px 2px rgba(60, 64, 67, 0.3), 0 1px 3px 1px rgba(60, 64, 67, 0.15);\n",
              "    fill: var(--button-hover-fill-color);\n",
              "  }\n",
              "\n",
              "  .colab-df-quickchart-complete:disabled,\n",
              "  .colab-df-quickchart-complete:disabled:hover {\n",
              "    background-color: var(--disabled-bg-color);\n",
              "    fill: var(--disabled-fill-color);\n",
              "    box-shadow: none;\n",
              "  }\n",
              "\n",
              "  .colab-df-spinner {\n",
              "    border: 2px solid var(--fill-color);\n",
              "    border-color: transparent;\n",
              "    border-bottom-color: var(--fill-color);\n",
              "    animation:\n",
              "      spin 1s steps(1) infinite;\n",
              "  }\n",
              "\n",
              "  @keyframes spin {\n",
              "    0% {\n",
              "      border-color: transparent;\n",
              "      border-bottom-color: var(--fill-color);\n",
              "      border-left-color: var(--fill-color);\n",
              "    }\n",
              "    20% {\n",
              "      border-color: transparent;\n",
              "      border-left-color: var(--fill-color);\n",
              "      border-top-color: var(--fill-color);\n",
              "    }\n",
              "    30% {\n",
              "      border-color: transparent;\n",
              "      border-left-color: var(--fill-color);\n",
              "      border-top-color: var(--fill-color);\n",
              "      border-right-color: var(--fill-color);\n",
              "    }\n",
              "    40% {\n",
              "      border-color: transparent;\n",
              "      border-right-color: var(--fill-color);\n",
              "      border-top-color: var(--fill-color);\n",
              "    }\n",
              "    60% {\n",
              "      border-color: transparent;\n",
              "      border-right-color: var(--fill-color);\n",
              "    }\n",
              "    80% {\n",
              "      border-color: transparent;\n",
              "      border-right-color: var(--fill-color);\n",
              "      border-bottom-color: var(--fill-color);\n",
              "    }\n",
              "    90% {\n",
              "      border-color: transparent;\n",
              "      border-bottom-color: var(--fill-color);\n",
              "    }\n",
              "  }\n",
              "</style>\n",
              "\n",
              "  <script>\n",
              "    async function quickchart(key) {\n",
              "      const quickchartButtonEl =\n",
              "        document.querySelector('#' + key + ' button');\n",
              "      quickchartButtonEl.disabled = true;  // To prevent multiple clicks.\n",
              "      quickchartButtonEl.classList.add('colab-df-spinner');\n",
              "      try {\n",
              "        const charts = await google.colab.kernel.invokeFunction(\n",
              "            'suggestCharts', [key], {});\n",
              "      } catch (error) {\n",
              "        console.error('Error during call to suggestCharts:', error);\n",
              "      }\n",
              "      quickchartButtonEl.classList.remove('colab-df-spinner');\n",
              "      quickchartButtonEl.classList.add('colab-df-quickchart-complete');\n",
              "    }\n",
              "    (() => {\n",
              "      let quickchartButtonEl =\n",
              "        document.querySelector('#df-7fd6c194-a9e2-4d57-996e-4500d181d8b1 button');\n",
              "      quickchartButtonEl.style.display =\n",
              "        google.colab.kernel.accessAllowed ? 'block' : 'none';\n",
              "    })();\n",
              "  </script>\n",
              "</div>\n",
              "\n",
              "    </div>\n",
              "  </div>\n"
            ],
            "application/vnd.google.colaboratory.intrinsic+json": {
              "type": "dataframe",
              "variable_name": "train"
            }
          },
          "metadata": {},
          "execution_count": 27
        }
      ]
    },
    {
      "cell_type": "code",
      "source": [
        "def limpiar_y_preprocesar(data):\n",
        "\n",
        "  data = data.drop('ID', axis=1)\n",
        "  data['PERIODO'] = data['PERIODO'].astype(str).apply(lambda text: text[:4])\n",
        "  def normalize_text(text: str):\n",
        "    import unicodedata\n",
        "    import re\n",
        "    if not pd.isna(text):\n",
        "        # Normaliza el texto eliminando acentos\n",
        "        normalized = unicodedata.normalize('NFKD', text).encode('ASCII', 'ignore').decode('utf-8')\n",
        "        # Elimina caracteres no deseados, incluidos \"¿\" y \"?\"\n",
        "        return re.sub(r'[¿?]', '', normalized)\n",
        "    return text\n",
        "\n",
        "  def group_values_by_frequency(data: pd.DataFrame, col: str, thresholds: list[float] = [0.05, 0.2]):\n",
        "    \"\"\"\n",
        "    Agrupa los valores de una columna en función de su frecuencia relativa.\n",
        "    Los valores se agrupan en categorías basadas en una lista de umbrales.\n",
        "\n",
        "    Args:\n",
        "        data (pd.DataFrame): DataFrame de entrada.\n",
        "        col (str): Nombre de la columna a procesar.\n",
        "        thresholds (list[float]): Lista de umbrales para definir los grupos.\n",
        "\n",
        "    Returns:\n",
        "        pd.Series: Serie con los valores agrupados.\n",
        "    \"\"\"\n",
        "    porcentaje = data[col].value_counts(normalize=True)\n",
        "\n",
        "    def asignar_grupo(value):\n",
        "        freq = porcentaje[value]\n",
        "        for i, t in enumerate(thresholds):\n",
        "            if freq < t:\n",
        "                return f'GRUPO_{i+1}'\n",
        "        return 'GRUPO_ALTO'\n",
        "\n",
        "    return data[col].apply(asignar_grupo)\n",
        "\n",
        "\n",
        "  for col in ['ESTU_PRGM_ACADEMICO', 'ESTU_PRGM_DEPARTAMENTO']:\n",
        "      data[col] = data[col].apply(normalize_text)\n",
        "  for col in ['ESTU_PRGM_ACADEMICO', 'ESTU_PRGM_DEPARTAMENTO']:\n",
        "      data[col] = group_values_by_frequency(data, col)\n",
        "\n",
        "  mapeo = {'Si': 1, 'S': 1, 'No': 0, 'N':0}\n",
        "  target_columns = ['FAMI_TIENEINTERNET', 'ESTU_PAGOMATRICULAPROPIO']\n",
        "  for column in target_columns:\n",
        "      data[column] = data[column].map(mapeo)\n",
        "  for col in target_columns:\n",
        "    data[col] = data[col].fillna(0)\n",
        "\n",
        "  mapeo_estrato = {'Sin Estrato': 0, 'Estrato 1': 1, 'Estrato 2': 2, 'Estrato 3': 3, 'Estrato 4': 4, 'Estrato 5': 5, 'Estrato 6': 6}\n",
        "\n",
        "  data['FAMI_ESTRATOVIVIENDA'] = data['FAMI_ESTRATOVIVIENDA'].map(mapeo_estrato)\n",
        "\n",
        "  mode_value = data['FAMI_ESTRATOVIVIENDA'].mode()[0]\n",
        "\n",
        "\n",
        "  data['FAMI_ESTRATOVIVIENDA'] = data['FAMI_ESTRATOVIVIENDA'].fillna(mode_value)\n",
        "\n",
        "  variables_continuas = ['ESTU_VALORMATRICULAUNIVERSIDAD', 'ESTU_HORASSEMANATRABAJA']\n",
        "\n",
        "  mapeo_valores_matricula = {\n",
        "      'Menos de 500 mil': 0,\n",
        "      'Entre 500 mil y menos de 1 millón': 1,\n",
        "      'Entre 1 millón y menos de 2.5 millones': 2,\n",
        "      'Entre 2.5 millones y menos de 4 millones': 3,\n",
        "      'Entre 4 millones y menos de 5.5 millones': 4,\n",
        "      'Entre 5.5 millones y menos de 7 millones': 5,\n",
        "      'Más de 7 millones': 6,\n",
        "      'No pagó matrícula': 7\n",
        "  }\n",
        "\n",
        "  mapeo_valores_horas_trabajo = {\n",
        "      '0': 0,\n",
        "      'Menos de 10 horas': 1,\n",
        "      'Entre 11 y 20 horas': 2,\n",
        "      'Entre 21 y 30 horas': 3,\n",
        "      'Más de 30 horas': 4\n",
        "  }\n",
        "\n",
        "\n",
        "  data['ESTU_VALORMATRICULAUNIVERSIDAD'] = data['ESTU_VALORMATRICULAUNIVERSIDAD'].map(mapeo_valores_matricula)\n",
        "  data['ESTU_HORASSEMANATRABAJA'] = data['ESTU_HORASSEMANATRABAJA'].map(mapeo_valores_horas_trabajo)\n",
        "  for col in variables_continuas:\n",
        "    data[col] = data[col].fillna(0)\n",
        "\n",
        "  moda_padre = data['FAMI_EDUCACIONPADRE'].mode()[0]\n",
        "  moda_madre = data['FAMI_EDUCACIONMADRE'].mode()[0]\n",
        "\n",
        "\n",
        "  data['FAMI_EDUCACIONPADRE'] = data['FAMI_EDUCACIONPADRE'].fillna(moda_padre)\n",
        "  data['FAMI_EDUCACIONMADRE'] = data['FAMI_EDUCACIONMADRE'].fillna(moda_madre)\n",
        "  data = pd.get_dummies(data, columns=[ 'FAMI_EDUCACIONPADRE', 'FAMI_EDUCACIONMADRE','ESTU_PRGM_ACADEMICO', 'ESTU_PRGM_DEPARTAMENTO'], prefix=['FAMI_EDUCACIONPADRE', 'FAMI_EDUCACIONMADRE','ESTU_PRGM_ACADEMICO', 'ESTU_PRGM_DEPARTAMENTO'])\n",
        "  data.replace({True: 1, False: 0})\n",
        "\n",
        "  return data\n"
      ],
      "metadata": {
        "id": "TV1xozwn7tiy"
      },
      "execution_count": 6,
      "outputs": []
    },
    {
      "cell_type": "code",
      "source": [
        "dtr = train\n",
        "dts = test\n",
        "lentr = len(dtr)\n",
        "dtr.shape, dts.shape"
      ],
      "metadata": {
        "colab": {
          "base_uri": "https://localhost:8080/"
        },
        "id": "Flq-yGpQWUjP",
        "outputId": "ea5302d3-de48-4be0-9496-84475b2ab819"
      },
      "execution_count": 7,
      "outputs": [
        {
          "output_type": "execute_result",
          "data": {
            "text/plain": [
              "((692500, 12), (296786, 12))"
            ]
          },
          "metadata": {},
          "execution_count": 7
        }
      ]
    },
    {
      "cell_type": "code",
      "source": [
        "source_cols = [i for i in dtr.columns if i!=\"RENDIMIENTO_GLOBAL\"]\n",
        "all_data = pd.concat((dtr[source_cols], dts[source_cols]))\n",
        "all_data.index = range(len(all_data))\n",
        "all_data = limpiar_y_preprocesar(all_data)\n",
        "\n",
        "Xtrk, ytrk = all_data.iloc[:lentr].values, dtr[\"RENDIMIENTO_GLOBAL\"].values\n",
        "Xtsk  = all_data.iloc[lentr:].values\n",
        "\n",
        "print (Xtrk.shape, ytrk.shape)\n",
        "print (Xtsk.shape)"
      ],
      "metadata": {
        "colab": {
          "base_uri": "https://localhost:8080/"
        },
        "id": "d7LUho6OWW73",
        "outputId": "1bd3d5f9-0bfe-431e-e126-12f61d4f1643"
      },
      "execution_count": 8,
      "outputs": [
        {
          "output_type": "stream",
          "name": "stderr",
          "text": [
            "<ipython-input-6-c6c3e0ad0eb7>:95: FutureWarning: Downcasting behavior in `replace` is deprecated and will be removed in a future version. To retain the old behavior, explicitly call `result.infer_objects(copy=False)`. To opt-in to the future behavior, set `pd.set_option('future.no_silent_downcasting', True)`\n",
            "  data.replace({True: 1, False: 0})\n"
          ]
        },
        {
          "output_type": "stream",
          "name": "stdout",
          "text": [
            "(692500, 35) (692500,)\n",
            "(296786, 35)\n"
          ]
        }
      ]
    },
    {
      "cell_type": "code",
      "source": [
        "n = int(len(Xtrk)*0.7)\n",
        "n"
      ],
      "metadata": {
        "colab": {
          "base_uri": "https://localhost:8080/"
        },
        "id": "B_XU3jEuWYHf",
        "outputId": "12d64882-9e0e-4bb4-cfab-086c04b9001c"
      },
      "execution_count": 9,
      "outputs": [
        {
          "output_type": "execute_result",
          "data": {
            "text/plain": [
              "484749"
            ]
          },
          "metadata": {},
          "execution_count": 9
        }
      ]
    },
    {
      "cell_type": "code",
      "source": [
        "idxs = np.random.permutation(len(Xtrk))\n",
        "idxs_trm = idxs[:n]\n",
        "idxs_tsm = idxs[n:]\n",
        "\n",
        "Xtrm = Xtrk[idxs_trm]\n",
        "ytrm = ytrk[idxs_trm]\n",
        "\n",
        "Xtsm = Xtrk[idxs_tsm]\n",
        "ytsm = ytrk[idxs_tsm]\n",
        "\n",
        "print (Xtrm.shape, ytrm.shape, Xtsm.shape, ytsm.shape)"
      ],
      "metadata": {
        "colab": {
          "base_uri": "https://localhost:8080/"
        },
        "id": "njXA_RweWZNO",
        "outputId": "491dab0e-364b-49f3-e991-b000698a5a2f"
      },
      "execution_count": 10,
      "outputs": [
        {
          "output_type": "stream",
          "name": "stdout",
          "text": [
            "(484749, 35) (484749,) (207751, 35) (207751,)\n"
          ]
        }
      ]
    },
    {
      "cell_type": "code",
      "source": [
        "\n",
        "# Codificación de las etiquetas de salida\n",
        "label_encoder = LabelEncoder()\n",
        "label_encoder.fit(ytrm)  # Fit with training data labels (ytrm)\n",
        "\n",
        "ytsm_encoded = label_encoder.transform(ytsm)\n",
        "ytrm_encoded = label_encoder.transform(ytrm)\n",
        "\n",
        "d_train = xgb.DMatrix(Xtrm, label=ytrm_encoded)\n",
        "d_test = xgb.DMatrix(Xtsm, label=ytsm_encoded)\n",
        "\n",
        "# Configuración básica del modelo XGBoost\n",
        "params = {\n",
        "    'objective': 'multi:softmax',        # Clasificación multiclase\n",
        "    'num_class': len(label_encoder.classes_),  # Número de clases\n",
        "    'eval_metric': 'merror',             # Métrica de error (error de clasificación)\n",
        "    'max_depth': 6,                      # Profundidad máxima de los árboles\n",
        "    'learning_rate': 0.1,                # Tasa de aprendizaje\n",
        "    'subsample': 0.8,                    # Porcentaje de datos para cada árbol\n",
        "    'colsample_bytree': 0.8,             # Proporción de características usadas\n",
        "    'n_estimators': 100                  # Número de árboles\n",
        "}\n",
        "\n",
        "# Entrenar el modelo con XGBoost\n",
        "modelo_xgb = xgb.train(params, d_train, num_boost_round=100)\n",
        "\n",
        "# Predicción en conjunto de prueba\n",
        "y_pred_proba = modelo_xgb.predict(d_test)\n",
        "\n",
        "# Evaluar precisión\n",
        "y_pred = y_pred_proba.astype(int)  # Asegúrate de que las predicciones sean enteros (clasificación multiclase)\n",
        "print(\"Precisión del modelo XGBoost:\", accuracy_score(ytsm_encoded, y_pred))\n",
        "\n",
        "# Reporte de clasificación\n",
        "print(\"\\nReporte de clasificación:\")\n",
        "print(classification_report(ytsm_encoded, y_pred, target_names=label_encoder.classes_))\n",
        "\n",
        "# Mostrar la matriz de confusión\n",
        "ConfusionMatrixDisplay.from_predictions(ytsm_encoded, y_pred, display_labels=label_encoder.classes_)\n"
      ],
      "metadata": {
        "colab": {
          "base_uri": "https://localhost:8080/",
          "height": 799
        },
        "id": "Au5BKIccFNg9",
        "outputId": "bc18c371-45e7-4686-d75c-649f58bfce48"
      },
      "execution_count": 11,
      "outputs": [
        {
          "output_type": "stream",
          "name": "stderr",
          "text": [
            "/usr/local/lib/python3.10/dist-packages/xgboost/core.py:158: UserWarning: [08:27:34] WARNING: /workspace/src/learner.cc:740: \n",
            "Parameters: { \"n_estimators\" } are not used.\n",
            "\n",
            "  warnings.warn(smsg, UserWarning)\n"
          ]
        },
        {
          "output_type": "stream",
          "name": "stdout",
          "text": [
            "Precisión del modelo XGBoost: 0.4027321168129155\n",
            "\n",
            "Reporte de clasificación:\n",
            "              precision    recall  f1-score   support\n",
            "\n",
            "        alto       0.50      0.59      0.54     52795\n",
            "        bajo       0.41      0.54      0.47     51893\n",
            "  medio-alto       0.31      0.22      0.25     51339\n",
            "  medio-bajo       0.33      0.25      0.28     51724\n",
            "\n",
            "    accuracy                           0.40    207751\n",
            "   macro avg       0.39      0.40      0.39    207751\n",
            "weighted avg       0.39      0.40      0.39    207751\n",
            "\n"
          ]
        },
        {
          "output_type": "execute_result",
          "data": {
            "text/plain": [
              "<sklearn.metrics._plot.confusion_matrix.ConfusionMatrixDisplay at 0x7a2366aa52a0>"
            ]
          },
          "metadata": {},
          "execution_count": 11
        },
        {
          "output_type": "display_data",
          "data": {
            "text/plain": [
              "<Figure size 640x480 with 2 Axes>"
            ],
            "image/png": "[encoded data removed]"
          },
          "metadata": {}
        }
      ]
    }
  ]
}